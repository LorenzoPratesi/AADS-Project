{
 "cells": [
  {
   "cell_type": "markdown",
   "metadata": {},
   "source": [
    "# Progetto AADS \n",
    "## Stima del numero di nodi esterni (foglie) dato in numero di nodi interni"
   ]
  },
  {
   "cell_type": "markdown",
   "metadata": {},
   "source": [
    "#### Autore: Lorenzo Pratesi Mariti - 7037171 - <a href=\"mailto:lorenzo.pratesi@stud.unifi.it\">lorenzo.pratesi@stud.unifi.it</a>"
   ]
  },
  {
   "cell_type": "markdown",
   "metadata": {},
   "source": [
    "##### Descrizione del progetto:\n",
    "In questo notebook verranno effettuate verifiche numeriche sul numero medio di foglie nelle strutture dati ad albero. In partcolare vedremo in dettaglio le strutture dati come:\n",
    "- alberi $s$-ari;\n",
    "- alberi binari;\n",
    "- alberi planari con radice;\n",
    "- alberi binari di ricerca."
   ]
  },
  {
   "cell_type": "markdown",
   "metadata": {},
   "source": [
    "### Preparazione:\n",
    "Per prima cosa è necessario importare tutti i pacchetti necessari allo svolgimento di questo progetto:"
   ]
  },
  {
   "cell_type": "code",
   "execution_count": 1,
   "metadata": {},
   "outputs": [],
   "source": [
    "import random \n",
    "from tqdm import tqdm\n",
    "from sage.combinat.species.library import *\n",
    "#from sympy import init_printing\n",
    "#init_printing()"
   ]
  },
  {
   "cell_type": "code",
   "execution_count": 2,
   "metadata": {},
   "outputs": [],
   "source": [
    "from lib.sage_itertools import *\n",
    "from lib.backtraking import *\n",
    "from lib.mary_tree import *"
   ]
  },
  {
   "cell_type": "markdown",
   "metadata": {},
   "source": [
    "## Alberi $s$-ari\n",
    "Un albero $s$-ario è una struttura definita in modo ricorsivo come un nodo esterno oppure un nodo interno che è connesso ad $s$ alberi $s$-ari. Se si indica con $\\mathcal{T}$ la classe degli alberi $s$-ari, questa definizione si traduce nella seguente relazione:\n",
    "\n",
    "$$\\mathcal{T} = \\{\\bullet\\} + \\{\\circ\\} × \\mathcal{T} × \\mathcal{T} · · · × \\mathcal{T}$$\n",
    "\n",
    "Applicando il metodo simbolico, si ha che la funzione generatrice che conta il numero di alberi $s$-ari con $n$ nodi interni soddisfa l'equazione: ${T}(t) = 1 + {T}(t)^s$\n",
    "Per l’estrazione del coefficiente si procede come segue:\n",
    "\n",
    "$$T(t) − 1 = tT(t)^s,\\quad T_0 = 1$$\n",
    "\n",
    "$$A(t) = t(1 + A(t))^s,\\quad A(t) = T(t) − 1$$\n",
    "\n",
    "$$T_n = A_n =\\frac{1}{n}[u^{n−1}](1 + u)^{sn} =\\frac{1}{n}\\binom{sn}{n − 1}=\\frac{1}{(s − 1)n + 1}\\binom{sn}{n}.$$\n",
    "\n",
    "### Verifica del risultato del numero di alberi $s$-ari dato il numero di nodi interni.\n",
    "Definiamo l'arietà di ogni nodo"
   ]
  },
  {
   "cell_type": "code",
   "execution_count": 3,
   "metadata": {},
   "outputs": [],
   "source": [
    "# 5-ary trees\n",
    "s = 5\n",
    "n = 5"
   ]
  },
  {
   "cell_type": "markdown",
   "metadata": {},
   "source": [
    "La struttura ricorsiva per un albero $s$-ario è la seguente: \n",
    "$$T= L + N \\times \\underbrace{T \\times T \\times \\cdots \\times T}_{s} = L+N\\times T^s$$\n",
    "- $L$: un nodo esterno, rappresentato dalla classe combinatoriale vuota `EmptySetSpecies`\n",
    "- $N$: nodo interno a cui sono collegati $s$ alberi $s$-ari, rappresentato dalla classe combinatoriale singleton `SingletonSpecies`\n",
    "- $T$: struttura ricorsiva definita dalla classe combinatoriale `CombinatorialSpecies`"
   ]
  },
  {
   "cell_type": "code",
   "execution_count": 4,
   "metadata": {},
   "outputs": [],
   "source": [
    "o = var('o')\n",
    "L = EmptySetSpecies()\n",
    "N = SingletonSpecies() \n",
    "TreeS = CombinatorialSpecies()\n",
    "\n",
    "TreeS.define(L + N * TreeS ^ s)\n",
    "Tree5 = TreeS.isotypes([o] * n).cardinality()"
   ]
  },
  {
   "cell_type": "markdown",
   "metadata": {},
   "source": [
    "Stampiamo la funzione generatrice e controlliamo l'uguaglianza al valore teorico $\\frac{1}{(s − 1)n + 1}\\binom{sn}{n}.$"
   ]
  },
  {
   "cell_type": "code",
   "execution_count": 11,
   "metadata": {},
   "outputs": [
    {
     "data": {
      "text/html": [
       "Generating Function:"
      ],
      "text/plain": [
       "'Generating Function:'"
      ]
     },
     "metadata": {},
     "output_type": "display_data"
    },
    {
     "data": {
      "text/html": [
       "<html><script type=\"math/tex; mode=display\">\\newcommand{\\Bold}[1]{\\mathbf{#1}}\\verb|1|\\phantom{\\verb!x!}\\verb|+|\\phantom{\\verb!x!}\\verb|x|\\phantom{\\verb!x!}\\verb|+|\\phantom{\\verb!x!}\\verb|5*x^2|\\phantom{\\verb!x!}\\verb|+|\\phantom{\\verb!x!}\\verb|35*x^3|\\phantom{\\verb!x!}\\verb|+|\\phantom{\\verb!x!}\\verb|285*x^4|\\phantom{\\verb!x!}\\verb|+|\\phantom{\\verb!x!}\\verb|2530*x^5|\\phantom{\\verb!x!}\\verb|+|\\phantom{\\verb!x!}\\verb|O(x^6)|</script></html>"
      ],
      "text/latex": [
       "$$\\newcommand{\\Bold}[1]{\\mathbf{#1}}\\verb|1|\\phantom{\\verb!x!}\\verb|+|\\phantom{\\verb!x!}\\verb|x|\\phantom{\\verb!x!}\\verb|+|\\phantom{\\verb!x!}\\verb|5*x^2|\\phantom{\\verb!x!}\\verb|+|\\phantom{\\verb!x!}\\verb|35*x^3|\\phantom{\\verb!x!}\\verb|+|\\phantom{\\verb!x!}\\verb|285*x^4|\\phantom{\\verb!x!}\\verb|+|\\phantom{\\verb!x!}\\verb|2530*x^5|\\phantom{\\verb!x!}\\verb|+|\\phantom{\\verb!x!}\\verb|O(x^6)|$$"
      ],
      "text/plain": [
       "1 + x + 5*x^2 + 35*x^3 + 285*x^4 + 2530*x^5 + O(x^6)"
      ]
     },
     "metadata": {},
     "output_type": "display_data"
    },
    {
     "data": {
      "text/html": [
       "Generating Function Coefficients:"
      ],
      "text/plain": [
       "'Generating Function Coefficients:'"
      ]
     },
     "metadata": {},
     "output_type": "display_data"
    },
    {
     "name": "stdout",
     "output_type": "stream",
     "text": [
      "[1, 1, 5, 35, 285]\n"
     ]
    }
   ],
   "source": [
    "show('Generating Function:')\n",
    "show(TreeS.isotype_generating_series())\n",
    "\n",
    "show('Generating Function Coefficients:')\n",
    "print(TreeS.isotype_generating_series().coefficients(n))"
   ]
  },
  {
   "cell_type": "code",
   "execution_count": 12,
   "metadata": {},
   "outputs": [
    {
     "data": {
      "text/plain": [
       "[1, 1, 5, 35, 285]"
      ]
     },
     "execution_count": 12,
     "metadata": {},
     "output_type": "execute_result"
    }
   ],
   "source": [
    "def val_teorico(s, n):\n",
    "    return 1 / ((s - 1) * n + 1) * binomial(s * n, n)\n",
    "\n",
    "[val_teorico(s, n) for n in range(n)]"
   ]
  },
  {
   "cell_type": "markdown",
   "metadata": {},
   "source": [
    "Le due serie ottenute coincidono."
   ]
  },
  {
   "cell_type": "markdown",
   "metadata": {},
   "source": [
    "La definizione ricorsiva sopra esposta è otenibile ugualmente tramite l'utilizzo della classe `MAryTrees`. \n",
    "Testiamo ora la definizione di albero $s$-ario, tramite questa classe e definiamo la funzione `get_random_of` che estrae una permutazione della struttura in modo uniformemente casuale;"
   ]
  },
  {
   "cell_type": "code",
   "execution_count": 15,
   "metadata": {},
   "outputs": [
    {
     "data": {
      "text/plain": [
       "5-ary trees"
      ]
     },
     "execution_count": 15,
     "metadata": {},
     "output_type": "execute_result"
    }
   ],
   "source": [
    "s = 5\n",
    "n = 5\n",
    "tree_s = MAryTrees(s)\n",
    "tree_s"
   ]
  },
  {
   "cell_type": "markdown",
   "metadata": {},
   "source": [
    "Ricordando che il numero di strutture possibili è dato da $k = \\frac{1}{(s − 1)n + 1}\\binom{sn}{n}$ possiamo generare un numero casuale $r$ nell'intervallo $(0, k-1)$ ed estrarre la struttura di indice $r$. Questa è un implementazione a forza bruta. La sua complessità è lineare $O(r)$, dove $r$ è la cardinalità dell'insieme in ingresso."
   ]
  },
  {
   "cell_type": "code",
   "execution_count": 18,
   "metadata": {},
   "outputs": [
    {
     "data": {
      "text/plain": [
       "[[., ., ., ., .], [., ., ., ., .], [., [., ., ., ., .], ., ., .], ., .]"
      ]
     },
     "execution_count": 18,
     "metadata": {},
     "output_type": "execute_result"
    }
   ],
   "source": [
    "def get_random_of(trees):\n",
    "    rand_index = randint(0, trees.cardinality() - 1)\n",
    "    for idx, tree in enumerate(trees):\n",
    "        if idx == rand_index:\n",
    "            return tree\n",
    "    return None\n",
    "\n",
    "random_s_tree = get_random_of(tree_s._get_m_ary_trees_size(n))\n",
    "random_s_tree"
   ]
  },
  {
   "cell_type": "markdown",
   "metadata": {},
   "source": [
    "### Calcoliamo il numero totale di strutture possibili\n",
    "\n",
    "Costruiamo un albero di arietà 5 e restituiiamo l'insieme degli alberi $s$-ari di dimensione $n = 10$. Dopodichè calcoliamo la dimensione dell'insieme."
   ]
  },
  {
   "cell_type": "code",
   "execution_count": 7,
   "metadata": {},
   "outputs": [
    {
     "data": {
      "image/png": "[encoded data removed]",
      "text/latex": [
       "$\\displaystyle 250543370$"
      ],
      "text/plain": [
       "250543370"
      ]
     },
     "execution_count": 7,
     "metadata": {},
     "output_type": "execute_result"
    }
   ],
   "source": [
    "concrete_count = len(tree_s._get_m_ary_trees_size(10))\n",
    "concrete_count"
   ]
  },
  {
   "cell_type": "markdown",
   "metadata": {},
   "source": [
    "Calcoliamo il valore teorico tramite la formula proposta dalla teoria\n",
    "$$\\frac{1}{(s-1) \\cdot n+1}\\binom{s\\cdot n}{n}$$"
   ]
  },
  {
   "cell_type": "markdown",
   "metadata": {},
   "source": [
    "Calcolo tramite la funzione del pacchetto MaryTree"
   ]
  },
  {
   "cell_type": "code",
   "execution_count": 8,
   "metadata": {},
   "outputs": [
    {
     "data": {
      "text/plain": [
       "2530"
      ]
     },
     "execution_count": 8,
     "metadata": {},
     "output_type": "execute_result"
    }
   ],
   "source": [
    "theoretical_count = tree_s._get_m_ary_trees_size(n).cardinality()\n",
    "theoretical_count"
   ]
  },
  {
   "cell_type": "markdown",
   "metadata": {},
   "source": [
    "Calcolo esplicitando la formulazione teorica"
   ]
  },
  {
   "cell_type": "code",
   "execution_count": 9,
   "metadata": {},
   "outputs": [
    {
     "data": {
      "text/plain": [
       "2530"
      ]
     },
     "execution_count": 9,
     "metadata": {},
     "output_type": "execute_result"
    }
   ],
   "source": [
    "def val_teorico(s, n):\n",
    "    return 1 / ((s - 1) * n + 1) * binomial(s * n, n)\n",
    "\n",
    "val_teorico(s, n)"
   ]
  },
  {
   "cell_type": "markdown",
   "metadata": {},
   "source": [
    "Come si evince i due risultati coincidono."
   ]
  },
  {
   "cell_type": "markdown",
   "metadata": {},
   "source": [
    "Proponiamo quindi anche una procedura che, dato un valore $k$ (pari al numero di simulazioni da condurre, ovvero il numero di alberi da creare), restituisce il numero totale di foglie presenti all'interno di tutti i $k$ alberi $s$-ari creati"
   ]
  },
  {
   "cell_type": "code",
   "execution_count": 29,
   "metadata": {},
   "outputs": [],
   "source": [
    "from functools import lru_cache\n",
    "\n",
    "def count_leaves(tree, leave_structure=\"[., .]\"):\n",
    "    return ' '.join(map(str, tree)).count(leave_structure)\n",
    "\n",
    "def get_leaves_str(size):\n",
    "    structure = '['\n",
    "    for _ in range(size - 1):\n",
    "        structure+='., '\n",
    "    \n",
    "    return structure + '.]'\n",
    "\n",
    "@cached_function\n",
    "def count_leaves_s_tree(s, n, k):\n",
    "    acc = 0\n",
    "    leave_struct = get_leaves_str(s)\n",
    "    tree_s = MAryTrees_size(s, n)\n",
    "    \n",
    "    for _ in tqdm(range(1, k + 1)):\n",
    "        tree = get_random_of(tree_s)\n",
    "        cl = count_leaves(tree, leave_structure=leave_struct)\n",
    "        acc += cl\n",
    "        #print(f\"internal nodes: {n - cl}, external nodes: {cl}\")\n",
    "\n",
    "    return acc"
   ]
  },
  {
   "cell_type": "markdown",
   "metadata": {},
   "source": [
    "Richiamiamo la procedura precedente con $k=1000$ (ovvero con $1000$ simulazioni di alberi $s$-ari) e salviamo il risultato all'interno di una variabile:"
   ]
  },
  {
   "cell_type": "code",
   "execution_count": 30,
   "metadata": {
    "scrolled": true
   },
   "outputs": [
    {
     "name": "stderr",
     "output_type": "stream",
     "text": [
      "100%|██████████| 1000/1000 [12:03<00:00,  1.38it/s]\n"
     ]
    },
    {
     "data": {
      "text/plain": [
       "1884"
      ]
     },
     "execution_count": 30,
     "metadata": {},
     "output_type": "execute_result"
    }
   ],
   "source": [
    "ary = 5\n",
    "num_of_node = 5\n",
    "iteration = 1000\n",
    "leaves = count_leaves_s_tree(ary, num_of_node, iteration)\n",
    "leaves"
   ]
  },
  {
   "cell_type": "markdown",
   "metadata": {},
   "source": [
    "## 2. Alberi Binari\n",
    "Vogliamo determinare il numero medio di foglie in un albero binario con n nodi interni. Una foglia è un nodo interno in cui entrambi i figli sono nodi esterni. Si può usare il metodo simbolico:\n",
    "\n",
    "$$\\mathcal{B}=\\{\\bullet\\}+\\{\\circ\\}\\times \\mathcal{B}\\times \\mathcal{B}$$\n",
    "\n",
    "Sia $B(t, w)$ la funzione generatrice bivariata che conta il numero $b_{n,k}$ di alberi binari con $n$ nodi interni e $k$ foglie, allora:\n",
    "\n",
    "$$B(t, w) = 1 + tw + tB(t, w)^2 − t$$\n",
    "\n",
    "(si sottrae $t$ per evitare che l’albero di misura 1 venga contato 2 volte). Derivando rispetto a $w$ e poi ponendo $w = 1$ si ha: \n",
    "\n",
    "$$B_w(t, 1) = t + 2tB(t, 1)B_u(t, 1) = \\frac{t}{1 − 2tB(t, 1)}=\\frac{t}{\\sqrt{1 − 4t}}$$\n",
    "\n",
    "Quindi, il numero medio di foglie in un albero binario con n nodi interni è:\n",
    "\n",
    "$$\\frac{[t^n]\\frac{1}{\\sqrt{1−4t}}}{\\frac{1}{n+1}\\binom{2n}{n}} = \\frac{\\binom{2n−2}{n−1}}{\\frac{1}{n+1}\\binom{2n}{n}}=\\frac{n(n + 1)}{2(2n − 1)} \\approx \\frac{n}{4} \\quad{\\text{ per }} n\\rightarrow \\infty$$\n",
    "\n",
    "###  Verifica del numero di foglie negli alberi binari dato il numero di nodi interni.  \n",
    "Numero di nodi esterni negli alberi binari: $$ \\frac{n}{4} \\quad \\text{per}\\quad n \\rightarrow \\infty.$$\n"
   ]
  },
  {
   "cell_type": "markdown",
   "metadata": {},
   "source": [
    "Definiamo la struttura dei suddetti alberi\n",
    "\n",
    "La struttura ricorsiva per un albero binario è la seguente: \n",
    "$$T = L + N \\times T \\times T $$\n",
    "- $L$: un nodo esterno, rappresentato dalla classe combinatoriale vuota `EmptySetSpecies`\n",
    "- $N$: nodo interno a cui sono collegati $s$ alberi $s$-ari, rappresentato dalla classe combinatoriale singleton `SingletonSpecies`\n",
    "- $T$: struttura ricorsiva definita dalla classe combinatoriale `CombinatorialSpecies`"
   ]
  },
  {
   "cell_type": "code",
   "execution_count": 36,
   "metadata": {},
   "outputs": [],
   "source": [
    "n = 10\n",
    "o = var('o')\n",
    "L = EmptySetSpecies()\n",
    "N = SingletonSpecies()\n",
    "BT = CombinatorialSpecies()\n",
    "\n",
    "BT.define(L + N * BT * BT)\n",
    "BTn = BT.isotypes([o] * n).cardinality()"
   ]
  },
  {
   "cell_type": "markdown",
   "metadata": {},
   "source": [
    "Stampiamo la funzione generatrice e controlliamo l'uguaglianza al valore teorico dei numeri di Catalan $\\frac{1}{n + 1}\\binom{2n}{n}.$ "
   ]
  },
  {
   "cell_type": "code",
   "execution_count": 37,
   "metadata": {},
   "outputs": [
    {
     "data": {
      "text/html": [
       "Generating Function:"
      ],
      "text/plain": [
       "'Generating Function:'"
      ]
     },
     "metadata": {},
     "output_type": "display_data"
    },
    {
     "data": {
      "text/html": [
       "<html><script type=\"math/tex; mode=display\">\\newcommand{\\Bold}[1]{\\mathbf{#1}}\\verb|1|\\phantom{\\verb!x!}\\verb|+|\\phantom{\\verb!x!}\\verb|x|\\phantom{\\verb!x!}\\verb|+|\\phantom{\\verb!x!}\\verb|2*x^2|\\phantom{\\verb!x!}\\verb|+|\\phantom{\\verb!x!}\\verb|5*x^3|\\phantom{\\verb!x!}\\verb|+|\\phantom{\\verb!x!}\\verb|14*x^4|\\phantom{\\verb!x!}\\verb|+|\\phantom{\\verb!x!}\\verb|42*x^5|\\phantom{\\verb!x!}\\verb|+|\\phantom{\\verb!x!}\\verb|132*x^6|\\phantom{\\verb!x!}\\verb|+|\\phantom{\\verb!x!}\\verb|429*x^7|\\phantom{\\verb!x!}\\verb|+|\\phantom{\\verb!x!}\\verb|1430*x^8|\\phantom{\\verb!x!}\\verb|+|\\phantom{\\verb!x!}\\verb|4862*x^9|\\phantom{\\verb!x!}\\verb|+|\\phantom{\\verb!x!}\\verb|16796*x^10|\\phantom{\\verb!x!}\\verb|+|\\phantom{\\verb!x!}\\verb|O(x^11)|</script></html>"
      ],
      "text/latex": [
       "$$\\newcommand{\\Bold}[1]{\\mathbf{#1}}\\verb|1|\\phantom{\\verb!x!}\\verb|+|\\phantom{\\verb!x!}\\verb|x|\\phantom{\\verb!x!}\\verb|+|\\phantom{\\verb!x!}\\verb|2*x^2|\\phantom{\\verb!x!}\\verb|+|\\phantom{\\verb!x!}\\verb|5*x^3|\\phantom{\\verb!x!}\\verb|+|\\phantom{\\verb!x!}\\verb|14*x^4|\\phantom{\\verb!x!}\\verb|+|\\phantom{\\verb!x!}\\verb|42*x^5|\\phantom{\\verb!x!}\\verb|+|\\phantom{\\verb!x!}\\verb|132*x^6|\\phantom{\\verb!x!}\\verb|+|\\phantom{\\verb!x!}\\verb|429*x^7|\\phantom{\\verb!x!}\\verb|+|\\phantom{\\verb!x!}\\verb|1430*x^8|\\phantom{\\verb!x!}\\verb|+|\\phantom{\\verb!x!}\\verb|4862*x^9|\\phantom{\\verb!x!}\\verb|+|\\phantom{\\verb!x!}\\verb|16796*x^10|\\phantom{\\verb!x!}\\verb|+|\\phantom{\\verb!x!}\\verb|O(x^11)|$$"
      ],
      "text/plain": [
       "1 + x + 2*x^2 + 5*x^3 + 14*x^4 + 42*x^5 + 132*x^6 + 429*x^7 + 1430*x^8 + 4862*x^9 + 16796*x^10 + O(x^11)"
      ]
     },
     "metadata": {},
     "output_type": "display_data"
    },
    {
     "data": {
      "text/html": [
       "Generating Function Coefficients:"
      ],
      "text/plain": [
       "'Generating Function Coefficients:'"
      ]
     },
     "metadata": {},
     "output_type": "display_data"
    },
    {
     "name": "stdout",
     "output_type": "stream",
     "text": [
      "[1, 1, 2, 5, 14, 42, 132, 429, 1430, 4862]\n"
     ]
    }
   ],
   "source": [
    "show('Generating Function:')\n",
    "show(BT.isotype_generating_series())\n",
    "\n",
    "show('Generating Function Coefficients:')\n",
    "print(BT.isotype_generating_series().coefficients(n))"
   ]
  },
  {
   "cell_type": "code",
   "execution_count": 38,
   "metadata": {},
   "outputs": [
    {
     "data": {
      "text/plain": [
       "[1, 1, 2, 5, 14, 42, 132, 429, 1430, 4862]"
      ]
     },
     "execution_count": 38,
     "metadata": {},
     "output_type": "execute_result"
    }
   ],
   "source": [
    "[catalan_number(i) for i in range(n)]"
   ]
  },
  {
   "cell_type": "markdown",
   "metadata": {},
   "source": [
    "Le due serie coincidono.\n",
    "\n",
    "Lo stesso risultato è ottenibile con la classe `BinaryTrees`"
   ]
  },
  {
   "cell_type": "code",
   "execution_count": 58,
   "metadata": {},
   "outputs": [
    {
     "data": {
      "text/plain": [
       "Binary trees of size 100"
      ]
     },
     "execution_count": 58,
     "metadata": {},
     "output_type": "execute_result"
    }
   ],
   "source": [
    "n = 100\n",
    "BT = BinaryTrees(n)\n",
    "BT"
   ]
  },
  {
   "cell_type": "markdown",
   "metadata": {},
   "source": [
    "Esempio di struttura ad albero Binario contenente 10 nodi"
   ]
  },
  {
   "cell_type": "code",
   "execution_count": 54,
   "metadata": {},
   "outputs": [
    {
     "data": {
      "text/plain": [
       "  _____o_____\n",
       " /           \\\n",
       "o             o\n",
       "             /\n",
       "           _o__\n",
       "          /    \\\n",
       "        _o_     o\n",
       "       /   \\    \n",
       "      o     o   \n",
       "     / \\        \n",
       "    o   o       "
      ]
     },
     "execution_count": 54,
     "metadata": {},
     "output_type": "execute_result"
    }
   ],
   "source": [
    "ascii_art(get_random_of(BinaryTrees(10)))"
   ]
  },
  {
   "cell_type": "markdown",
   "metadata": {},
   "source": [
    "Definiamo ora una procedura che, dati due parametri $k$ e $n$, tramite simulazione ritorna il valore totale delle foglie presenti all'interno di $k$ alberi binari con $n$ nodi interni"
   ]
  },
  {
   "cell_type": "code",
   "execution_count": 68,
   "metadata": {},
   "outputs": [],
   "source": [
    "def count_leaves_bin(t, k, n):\n",
    "    acc = 0\n",
    "    for _ in tqdm(range(k)):\n",
    "        tree = t.random_element()\n",
    "        acc += count_leaves(tree)\n",
    "        \n",
    "    return acc"
   ]
  },
  {
   "cell_type": "markdown",
   "metadata": {},
   "source": [
    "Ora richiamiamo la procedura con $k = 10000$ numero di alberi e $n = 100$ numero di nodi interni di ogni albero"
   ]
  },
  {
   "cell_type": "code",
   "execution_count": 79,
   "metadata": {},
   "outputs": [
    {
     "name": "stderr",
     "output_type": "stream",
     "text": [
      "100%|██████████| 10000/10000 [00:13<00:00, 767.21it/s]\n"
     ]
    },
    {
     "data": {
      "text/plain": [
       "254214"
      ]
     },
     "execution_count": 79,
     "metadata": {},
     "output_type": "execute_result"
    }
   ],
   "source": [
    "k = 10000\n",
    "n = 100\n",
    "BT = BinaryTrees(n)\n",
    "tot_leaves = count_leaves_bin(BT, k, n)\n",
    "tot_leaves"
   ]
  },
  {
   "cell_type": "markdown",
   "metadata": {},
   "source": [
    "Ora prendiamo il valore ritornato, lo dividiamo per il numero di alberi su cui abbiamo effettuato la simulazione, e notiamo che il risultato tende a $\\frac{n}{4}$"
   ]
  },
  {
   "cell_type": "code",
   "execution_count": 80,
   "metadata": {},
   "outputs": [
    {
     "data": {
      "text/plain": [
       "25.4214000000000"
      ]
     },
     "execution_count": 80,
     "metadata": {},
     "output_type": "execute_result"
    }
   ],
   "source": [
    "(tot_leaves / k).n()"
   ]
  },
  {
   "cell_type": "markdown",
   "metadata": {},
   "source": [
    "In questo caso $n$ era uguale a $100$, quindi correttamente si ottiene un valore attorno a $25$."
   ]
  },
  {
   "cell_type": "code",
   "execution_count": 81,
   "metadata": {},
   "outputs": [
    {
     "data": {
      "text/plain": [
       "25"
      ]
     },
     "execution_count": 81,
     "metadata": {},
     "output_type": "execute_result"
    }
   ],
   "source": [
    "n / 4"
   ]
  },
  {
   "cell_type": "markdown",
   "metadata": {},
   "source": [
    "## 3. Alberi planari con radice\n",
    "Sia $G(z, u)$ la funzione generatrice bivariata associata a $G_{n,k}$, ovvero:\n",
    "\n",
    "$$G(z,u)=\\sum_{n,k\\ge 0}G_{n,k}z^nu^k$$\n",
    "\n",
    "dove $z$ conta il numero di nodi e $u $quello delle foglie. La classe $\\mathbb{A}$ degli alberi aventi nodi di qualsiasi arietà $s$ risulta essere l’unione disgiunta degli insiemi $\\mathbb{A}_s$, $s \\ge 0$, costituiti dagli alberi di $\\mathbb{A}$ che hanno un nodo di arietà $s$ come radice:\n",
    "\n",
    "$$\\mathbb{A} = \\{\\circ\\} \\cup \\{\\circ\\} \\times \\mathbb{A} \\cup \\{\\circ\\} \\times \\mathbb{A} \\times \\mathbb{A} \\cup \\{\\circ\\} \\times \\mathbb{A} \\times \\mathbb{A} \\times \\mathbb{A} \\cup \\cdots$$\n",
    "\n",
    "Passando alla funzione generatrice bivariata si ha:\n",
    "\n",
    "$$G(z,u)=zu+zG(z,u)+zG(z,u)^2+\\cdots=zu+z\\sum_{k\\ge 0}G(z,u)^k=zu+\\frac{zG(z,u)}{1-G(z,u)}=z\\left(u+\\frac{G(z,u)}{1-G(z,u)}\\right)$$\n",
    "\n",
    "Per trovare $G_{n,k}$ si applica la formula di inversione di Lagrange:\n",
    "\n",
    "$$G_{n,k} = [u^k][z^n]G(z, u) = [u^k]\\frac{1}{n}[y^{n-1}]\\left(u +\\frac{y}{1 - y}\\right)^n=\\frac{1}{n}\\binom{n}{k}[y^{n-1}]\\frac{y^{n-k}}{(1 - y)^{n-k}}=\\frac{1}{n}\\binom{n}{k}\\binom{n - 2}{k - 1}.$$\n",
    "\n",
    "Avendo trovato $G_{n,k}$ in forma esplicita, il numero medio di foglie questa volta può essere determinato calcolando le sequenti somme combinatorie\n",
    "\n",
    "$$\\frac{\\sum_{k\\ge 0}kG_{n,k}}{\\sum_{k\\ge 0}G_{n,k}}=\\frac{\\frac{1}{2}\\binom{2n-2}{n-1}}{\\frac{1}{n}\\binom{2n-2}{n-1}}=\\frac{n}{2}$$\n",
    "\n"
   ]
  },
  {
   "cell_type": "markdown",
   "metadata": {},
   "source": [
    "Definiamo la struttura dei suddetti alberi\n",
    "\n",
    "La struttura ricorsiva per un albero planare con radice è la seguente: \n",
    "$$T = N + (N \\times T) + (N \\times T \\times T) + (N \\times T \\times T \\times T) + \\cdots = N + \\sum_{j=1}^{n-1} (N \\times T^j)$$\n",
    "- $L$: un nodo esterno, rappresentato dalla classe combinatoriale vuota `EmptySetSpecies`\n",
    "- $N$: nodo interno a cui sono collegati $s$ alberi $s$-ari, rappresentato dalla classe combinatoriale singleton `SingletonSpecies`\n",
    "- $T$: struttura ricorsiva definita dalla classe combinatoriale `CombinatorialSpecies`"
   ]
  },
  {
   "cell_type": "code",
   "execution_count": 124,
   "metadata": {},
   "outputs": [
    {
     "data": {
      "text/plain": [
       "4862"
      ]
     },
     "execution_count": 124,
     "metadata": {},
     "output_type": "execute_result"
    }
   ],
   "source": [
    "n = 10\n",
    "o = var('o')\n",
    "N = SingletonSpecies()\n",
    "L = EmptySetSpecies()\n",
    "TreeP = CombinatorialSpecies()\n",
    "\n",
    "tree_def = N  \n",
    "\n",
    "for j in range(1, n + 1):\n",
    "    tree_def += N * TreeP^j\n",
    "\n",
    "TreeP.define(tree_def)\n",
    "TreeP.isotypes([o] * n).cardinality()"
   ]
  },
  {
   "cell_type": "markdown",
   "metadata": {},
   "source": [
    "Il numero di alberi planari con radice, classificati in base al numero di foglie, equivalgono ai numeri di Catalan shiftati di una posizione, ovvero equivalgono al $(n-1)$-esimo numero di Catalan."
   ]
  },
  {
   "cell_type": "code",
   "execution_count": 126,
   "metadata": {},
   "outputs": [
    {
     "data": {
      "text/html": [
       "Generating Function:"
      ],
      "text/plain": [
       "'Generating Function:'"
      ]
     },
     "metadata": {},
     "output_type": "display_data"
    },
    {
     "data": {
      "text/html": [
       "<html><script type=\"math/tex; mode=display\">\\newcommand{\\Bold}[1]{\\mathbf{#1}}\\verb|x|\\phantom{\\verb!x!}\\verb|+|\\phantom{\\verb!x!}\\verb|x^2|\\phantom{\\verb!x!}\\verb|+|\\phantom{\\verb!x!}\\verb|2*x^3|\\phantom{\\verb!x!}\\verb|+|\\phantom{\\verb!x!}\\verb|5*x^4|\\phantom{\\verb!x!}\\verb|+|\\phantom{\\verb!x!}\\verb|14*x^5|\\phantom{\\verb!x!}\\verb|+|\\phantom{\\verb!x!}\\verb|42*x^6|\\phantom{\\verb!x!}\\verb|+|\\phantom{\\verb!x!}\\verb|132*x^7|\\phantom{\\verb!x!}\\verb|+|\\phantom{\\verb!x!}\\verb|429*x^8|\\phantom{\\verb!x!}\\verb|+|\\phantom{\\verb!x!}\\verb|1430*x^9|\\phantom{\\verb!x!}\\verb|+|\\phantom{\\verb!x!}\\verb|4862*x^10|\\phantom{\\verb!x!}\\verb|+|\\phantom{\\verb!x!}\\verb|O(x^11)|</script></html>"
      ],
      "text/latex": [
       "$$\\newcommand{\\Bold}[1]{\\mathbf{#1}}\\verb|x|\\phantom{\\verb!x!}\\verb|+|\\phantom{\\verb!x!}\\verb|x^2|\\phantom{\\verb!x!}\\verb|+|\\phantom{\\verb!x!}\\verb|2*x^3|\\phantom{\\verb!x!}\\verb|+|\\phantom{\\verb!x!}\\verb|5*x^4|\\phantom{\\verb!x!}\\verb|+|\\phantom{\\verb!x!}\\verb|14*x^5|\\phantom{\\verb!x!}\\verb|+|\\phantom{\\verb!x!}\\verb|42*x^6|\\phantom{\\verb!x!}\\verb|+|\\phantom{\\verb!x!}\\verb|132*x^7|\\phantom{\\verb!x!}\\verb|+|\\phantom{\\verb!x!}\\verb|429*x^8|\\phantom{\\verb!x!}\\verb|+|\\phantom{\\verb!x!}\\verb|1430*x^9|\\phantom{\\verb!x!}\\verb|+|\\phantom{\\verb!x!}\\verb|4862*x^10|\\phantom{\\verb!x!}\\verb|+|\\phantom{\\verb!x!}\\verb|O(x^11)|$$"
      ],
      "text/plain": [
       "x + x^2 + 2*x^3 + 5*x^4 + 14*x^5 + 42*x^6 + 132*x^7 + 429*x^8 + 1430*x^9 + 4862*x^10 + O(x^11)"
      ]
     },
     "metadata": {},
     "output_type": "display_data"
    },
    {
     "data": {
      "text/html": [
       "Generating Function Coefficients:"
      ],
      "text/plain": [
       "'Generating Function Coefficients:'"
      ]
     },
     "metadata": {},
     "output_type": "display_data"
    },
    {
     "name": "stdout",
     "output_type": "stream",
     "text": [
      "[0, 1, 1, 2, 5, 14, 42, 132, 429, 1430, 4862]\n"
     ]
    }
   ],
   "source": [
    "show('Generating Function:')\n",
    "show(TreeP.isotype_generating_series())\n",
    "\n",
    "show('Generating Function Coefficients:')\n",
    "print(TreeP.isotype_generating_series().coefficients(n + 1))"
   ]
  },
  {
   "cell_type": "code",
   "execution_count": 136,
   "metadata": {},
   "outputs": [
    {
     "data": {
      "text/plain": [
       "[1, 1, 2, 5, 14, 42, 132, 429, 1430, 4862]"
      ]
     },
     "execution_count": 136,
     "metadata": {},
     "output_type": "execute_result"
    }
   ],
   "source": [
    "[catalan_number(i - 1) for i in range(n + 1) if i > 0]"
   ]
  },
  {
   "cell_type": "markdown",
   "metadata": {},
   "source": [
    "### Verifica del numero di foglie negli alberi planari dato il numero di nodi interni.\n",
    "\n",
    "Il numero di nodi foglia degli alberi planari tende a $\\frac{n}{2}$.\n",
    "\n",
    "La definizione ricorsiva sopra esposta è otenibile ugualmente tramite l'utilizzo della classe `OrderedTrees`."
   ]
  },
  {
   "cell_type": "code",
   "execution_count": 137,
   "metadata": {},
   "outputs": [
    {
     "data": {
      "text/plain": [
       "4862"
      ]
     },
     "execution_count": 137,
     "metadata": {},
     "output_type": "execute_result"
    }
   ],
   "source": [
    "OrderedTrees(10).cardinality()"
   ]
  },
  {
   "cell_type": "code",
   "execution_count": 140,
   "metadata": {},
   "outputs": [
    {
     "data": {
      "text/plain": [
       "  __o___\n",
       " / /   / \n",
       "o o   o\n",
       "  |   |\n",
       "  o   o\n",
       "      |\n",
       "      o\n",
       "      |\n",
       "      o_\n",
       "     / /\n",
       "    o o"
      ]
     },
     "execution_count": 140,
     "metadata": {},
     "output_type": "execute_result"
    }
   ],
   "source": [
    "ascii_art(OrderedTrees(10).random_element())"
   ]
  },
  {
   "cell_type": "markdown",
   "metadata": {},
   "source": [
    "Definiamo ora una procedura che, dati due parametri $k$ e $n$, tramite simulazione ritorna il valore totale delle foglie presenti all'interno di $k$ alberi planari con n nodi interni"
   ]
  },
  {
   "cell_type": "code",
   "execution_count": 141,
   "metadata": {},
   "outputs": [],
   "source": [
    "def count_leaves_planar_tree(t, k, n):\n",
    "    acc = 0\n",
    "    for i in tqdm(range(k)):\n",
    "        tree = t.random_element()\n",
    "        acc += n - count_leaves(tree, leave_structure=\"[]\")\n",
    "    \n",
    "    return acc"
   ]
  },
  {
   "cell_type": "markdown",
   "metadata": {},
   "source": [
    "Ora richiamiamo la procedura con i valori di $k=10000$ (ovvero $10000$ alberi) e $n=100$ (alberi con 100 nodi interni ciascuno) e salviamo il risultato del totale delle foglie  all'interno di una variabile:"
   ]
  },
  {
   "cell_type": "code",
   "execution_count": 143,
   "metadata": {},
   "outputs": [
    {
     "name": "stderr",
     "output_type": "stream",
     "text": [
      "100%|██████████| 10000/10000 [00:07<00:00, 1382.04it/s]\n"
     ]
    },
    {
     "data": {
      "text/plain": [
       "500372"
      ]
     },
     "execution_count": 143,
     "metadata": {},
     "output_type": "execute_result"
    }
   ],
   "source": [
    "k = 10000\n",
    "n = 100\n",
    "OT = OrderedTrees(n)\n",
    "tot_leaves_plan = count_leaves_planar_tree(OT, k, n);\n",
    "tot_leaves_plan"
   ]
  },
  {
   "cell_type": "code",
   "execution_count": 144,
   "metadata": {},
   "outputs": [
    {
     "data": {
      "text/plain": [
       "50.0372000000000"
      ]
     },
     "execution_count": 144,
     "metadata": {},
     "output_type": "execute_result"
    }
   ],
   "source": [
    "(tot_leaves_plan / k).n()"
   ]
  },
  {
   "cell_type": "markdown",
   "metadata": {},
   "source": [
    "In questo caso $n =100$, e quindi il risultato ottenuto di circa $50$ nodi foglia rispecchia il risultato teorico di $\\frac{n}{2}$."
   ]
  },
  {
   "cell_type": "code",
   "execution_count": 145,
   "metadata": {},
   "outputs": [
    {
     "data": {
      "text/plain": [
       "50"
      ]
     },
     "execution_count": 145,
     "metadata": {},
     "output_type": "execute_result"
    }
   ],
   "source": [
    "n / 2"
   ]
  },
  {
   "cell_type": "markdown",
   "metadata": {},
   "source": [
    "## 4. Alberi binari di ricerca\n",
    "Un albero binario di ricerca è un albero binario con chiavi associate a ciascun nodo interno con la proprietà che la chiave in un nodo è maggiore di tutte le chiavi nel suo sottoalbero sinistro e minore di tutte quelle nel sottoalbero destro.\n",
    "\n",
    "- Il numero medio di confronti fra chiavi necessari per costruire un albero binario di ricerca inserendo $n$ chiavi distinte in ordine casuale è pari alla lunghezza media del cammino totale interno \n",
    "$$I_n = n − 1 + \\frac{1}{n}\\sum^n_{k=1}(I_{k−1} + I_{n−k}),\\quad I_0 = 0. \\qquad \\text{\n",
    "Si trova} \\quad I_n = 2(n + 1)(H_{n+1} − 1) − 2$$\n",
    "\n",
    "-  Numero medio di confronti in una ricerca con successo: \n",
    "$$\\frac{1}{n}I_n + 1 = 2H_n − 3 − 2\\frac{H_n}{n}$$\n",
    "\n",
    "-  Numero medio di confronti in una ricerca senza successo: $$\\frac{I_n + 2n}{n + 1} = 2H_{n+1} − 2 $$\n",
    "\n",
    "### Numero medio di foglie negli alberi binari di ricerca dato il numero di nodi interni. \n",
    "Il numero medio di foglie in un albero binario di ricerca costruito inserendo $n$ chiavi distinte in ordine casuale soddisfa la ricorrenza:\n",
    "\n",
    "$$F_n = \\delta_{n,1} + \\frac{2}{n}\\sum^{n−1}_{k=0}F_k,\\quad F_0 = 0$$\n",
    "$\\delta_{n,1}$ è la porzione di costo associata alla radice). Passando alle funzione generatrice si trova:\n",
    "\n",
    "$$tF'(t) = t +\\frac{2t}{1 − t}F(t)$$\n",
    "\n",
    "$$F(t) = \\frac{1}{3}\\frac{1}{(1 − t)^2}+\\frac{1}{3}(t-1)$$\n",
    "Estraendo il coefficiente si trova infine:\n",
    "$$F_n =\\frac{n + 1}{3}.$$\n",
    "\n",
    "Il numero medio di foglie all'interno degli alberi binari di ricerca tende a $\\frac{n}{3}$.\n",
    "\n",
    "Siccome gli alberi binari di ricerca non possiedono una struttura definita a priori e regolare come nel caso degli alberi binari standard, o degli alberi $s$, definiamo una procedura che, data una permutazione di $m$ elementi, restituisce una struttura ad albero corrispondente all'albero binario di ricerca costruito su quella specifica permutazione.  Ciò ci permette di calcolare, analogamente a quanto effettuato per le altre analisi, il numero medio di foglie e di confrontarlo con il risultato teorico atteso."
   ]
  },
  {
   "cell_type": "code",
   "execution_count": 152,
   "metadata": {},
   "outputs": [],
   "source": [
    "def binary_search_insert(root, value):\n",
    "    LT = LabelledBinaryTree(None).parent()._element_constructor_\n",
    "    if not root:\n",
    "        return LT([], label=value)\n",
    "    else:\n",
    "        if value <= root.label():\n",
    "            fils = binary_search_insert(root[0], value)\n",
    "            return LT([fils, root[1]], label=root.label())\n",
    "        else:\n",
    "            fils = binary_search_insert(root[1], value)\n",
    "            return LT([root[0], fils], label=root.label())\n",
    "        \n",
    "        \n",
    "def random_perm_of_lenght(n):\n",
    "    arr = list(range(1, n + 1))\n",
    "    random.shuffle(arr)\n",
    "    return Permutation(arr)\n",
    "\n",
    "        \n",
    "def permutation_to_bst(perm):\n",
    "    res = LabelledBinaryTree(None)\n",
    "    for i in perm:\n",
    "        res = binary_search_insert(res, i)\n",
    "\n",
    "    return res"
   ]
  },
  {
   "cell_type": "markdown",
   "metadata": {},
   "source": [
    "Definiamo ora una procedura che, dato un valore $k$ pari al numero di simulazioni da condurre ovvero il numero di alberi da creare e un valore $n$ ovvero il numero di nodi interni, restituisce il numero totale di foglie presenti interno di ogni albero. Tramite questo valore, come per le altre analisi, potremo facilmente calcolare il numero medio di nodi foglia all'interno degli alberi binari di ricerca creati;"
   ]
  },
  {
   "cell_type": "code",
   "execution_count": 158,
   "metadata": {},
   "outputs": [],
   "source": [
    "def count_bst_leaves(k, n):\n",
    "    acc = 0\n",
    "    for i in tqdm(range(1, k + 1)):\n",
    "        random_perm = random_perm_of_lenght(n)\n",
    "        bst = permutation_to_bst(random_perm)\n",
    "        acc += count_leaves(bst)\n",
    "    \n",
    "    return acc"
   ]
  },
  {
   "cell_type": "markdown",
   "metadata": {},
   "source": [
    "Richiamiamo la procedura con $k=10000$ (ovvero $10000$ alberi) e $n=100$ (ovvero $100$ nodi interni per ogni albero) e lo assegnamo ad una variabile:"
   ]
  },
  {
   "cell_type": "code",
   "execution_count": 159,
   "metadata": {},
   "outputs": [
    {
     "name": "stderr",
     "output_type": "stream",
     "text": [
      "100%|██████████| 10000/10000 [01:30<00:00, 110.19it/s]\n"
     ]
    },
    {
     "data": {
      "text/plain": [
       "336853"
      ]
     },
     "execution_count": 159,
     "metadata": {},
     "output_type": "execute_result"
    }
   ],
   "source": [
    "k = 10000\n",
    "n = 100\n",
    "tot_leaves_bst = count_bst_leaves(k, n)\n",
    "tot_leaves_bst"
   ]
  },
  {
   "cell_type": "code",
   "execution_count": 165,
   "metadata": {},
   "outputs": [
    {
     "data": {
      "text/plain": [
       "33.6853000000000"
      ]
     },
     "execution_count": 165,
     "metadata": {},
     "output_type": "execute_result"
    }
   ],
   "source": [
    "(tot_leaves_bst / k).n()"
   ]
  },
  {
   "cell_type": "markdown",
   "metadata": {},
   "source": [
    "Come possiamo notare, il risultato ottenuto rispecchia il valore teorico, in quanto si ha che per $n=100$ il numero di nodi foglia dovrebbe risultare circa $33$,  valore ritrovato tramite questa simulazione."
   ]
  },
  {
   "cell_type": "code",
   "execution_count": 157,
   "metadata": {},
   "outputs": [
    {
     "data": {
      "text/plain": [
       "33.3333333333333"
      ]
     },
     "execution_count": 157,
     "metadata": {},
     "output_type": "execute_result"
    }
   ],
   "source": [
    "(n / 3).n()"
   ]
  },
  {
   "cell_type": "code",
   "execution_count": null,
   "metadata": {},
   "outputs": [],
   "source": []
  }
 ],
 "metadata": {
  "kernelspec": {
   "display_name": "SageMath 9.2",
   "language": "sage",
   "name": "sagemath"
  },
  "language_info": {
   "codemirror_mode": {
    "name": "ipython",
    "version": 3
   },
   "file_extension": ".py",
   "mimetype": "text/x-python",
   "name": "python",
   "nbconvert_exporter": "python",
   "pygments_lexer": "ipython3",
   "version": "3.7.7"
  }
 },
 "nbformat": 4,
 "nbformat_minor": 4
}
