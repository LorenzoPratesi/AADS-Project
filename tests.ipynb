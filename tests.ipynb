{
 "cells": [
  {
   "cell_type": "code",
   "execution_count": 1,
   "metadata": {},
   "outputs": [],
   "source": [
    "from sympy import init_printing\n",
    "from sage.combinat.species.library import *\n",
    "from tqdm import tqdm\n",
    "\n",
    "init_printing()"
   ]
  },
  {
   "cell_type": "code",
   "execution_count": 8,
   "metadata": {},
   "outputs": [
    {
     "data": {
      "text/plain": [
       "23751"
      ]
     },
     "execution_count": 8,
     "metadata": {},
     "output_type": "execute_result"
    }
   ],
   "source": [
    "def val_teorico(s, n):\n",
    "    return 1 / ((s - 1) * n + 1) * binomial(s * n, n)\n",
    "\n",
    "val_teorico(5, 6)"
   ]
  },
  {
   "cell_type": "code",
   "execution_count": null,
   "metadata": {},
   "outputs": [],
   "source": []
  },
  {
   "cell_type": "code",
   "execution_count": 12,
   "metadata": {},
   "outputs": [
    {
     "data": {
      "text/plain": [
       "o*((o*({}*(({}*{})*({}*(o*({}*(({}*{})*({}*{}))))))))*(({}*{})*({}*(o*({}*(({}*{})*({}*{})))))))"
      ]
     },
     "execution_count": 12,
     "metadata": {},
     "output_type": "execute_result"
    }
   ],
   "source": [
    "o = var('o')\n",
    "N = SingletonSpecies(); \n",
    "L = EmptySetSpecies()\n",
    "TreeS = CombinatorialSpecies()\n",
    "\n",
    "TreeS.define(L + N * TreeS ^ 5)\n",
    "tree_iso = TreeS.isotypes([o] * 4)\n",
    "tree_iso.random_element()"
   ]
  },
  {
   "cell_type": "code",
   "execution_count": 3,
   "metadata": {},
   "outputs": [
    {
     "data": {
      "text/plain": [
       "1 + x + 5*x^2 + 35*x^3 + 285*x^4 + 2530*x^5 + O(x^6)"
      ]
     },
     "execution_count": 3,
     "metadata": {},
     "output_type": "execute_result"
    }
   ],
   "source": [
    "TreeS.isotype_generating_series()"
   ]
  },
  {
   "cell_type": "code",
   "execution_count": 93,
   "metadata": {},
   "outputs": [
    {
     "data": {
      "text/plain": [
       "5*q2^2*x^9"
      ]
     },
     "execution_count": 93,
     "metadata": {},
     "output_type": "execute_result"
    }
   ],
   "source": [
    "q1 = QQ['q1'].gen()\n",
    "q2 = QQ['q2'].gen()\n",
    "x = var('x')\n",
    "leaf = SingletonSpecies(weight=x)\n",
    "internal_node = SingletonSpecies(weight=q2)\n",
    "L = LinearOrderSpecies(min=5)\n",
    "T = CombinatorialSpecies()\n",
    "T.define(leaf + internal_node*T^5)\n",
    "T.isotype_generating_series().coefficient(11)"
   ]
  },
  {
   "cell_type": "code",
   "execution_count": 11,
   "metadata": {},
   "outputs": [],
   "source": [
    " s = sum(sin(k)/k for k in [1..100])"
   ]
  },
  {
   "cell_type": "code",
   "execution_count": 12,
   "metadata": {},
   "outputs": [
    {
     "data": {
      "text/plain": [
       "1/100*sin(100) + 1/99*sin(99) + 1/98*sin(98) + 1/97*sin(97) + 1/96*sin(96) + 1/95*sin(95) + 1/94*sin(94) + 1/93*sin(93) + 1/92*sin(92) + 1/91*sin(91) + 1/90*sin(90) + 1/89*sin(89) + 1/88*sin(88) + 1/87*sin(87) + 1/86*sin(86) + 1/85*sin(85) + 1/84*sin(84) + 1/83*sin(83) + 1/82*sin(82) + 1/81*sin(81) + 1/80*sin(80) + 1/79*sin(79) + 1/78*sin(78) + 1/77*sin(77) + 1/76*sin(76) + 1/75*sin(75) + 1/74*sin(74) + 1/73*sin(73) + 1/72*sin(72) + 1/71*sin(71) + 1/70*sin(70) + 1/69*sin(69) + 1/68*sin(68) + 1/67*sin(67) + 1/66*sin(66) + 1/65*sin(65) + 1/64*sin(64) + 1/63*sin(63) + 1/62*sin(62) + 1/61*sin(61) + 1/60*sin(60) + 1/59*sin(59) + 1/58*sin(58) + 1/57*sin(57) + 1/56*sin(56) + 1/55*sin(55) + 1/54*sin(54) + 1/53*sin(53) + 1/52*sin(52) + 1/51*sin(51) + 1/50*sin(50) + 1/49*sin(49) + 1/48*sin(48) + 1/47*sin(47) + 1/46*sin(46) + 1/45*sin(45) + 1/44*sin(44) + 1/43*sin(43) + 1/42*sin(42) + 1/41*sin(41) + 1/40*sin(40) + 1/39*sin(39) + 1/38*sin(38) + 1/37*sin(37) + 1/36*sin(36) + 1/35*sin(35) + 1/34*sin(34) + 1/33*sin(33) + 1/32*sin(32) + 1/31*sin(31) + 1/30*sin(30) + 1/29*sin(29) + 1/28*sin(28) + 1/27*sin(27) + 1/26*sin(26) + 1/25*sin(25) + 1/24*sin(24) + 1/23*sin(23) + 1/22*sin(22) + 1/21*sin(21) + 1/20*sin(20) + 1/19*sin(19) + 1/18*sin(18) + 1/17*sin(17) + 1/16*sin(16) + 1/15*sin(15) + 1/14*sin(14) + 1/13*sin(13) + 1/12*sin(12) + 1/11*sin(11) + 1/10*sin(10) + 1/9*sin(9) + 1/8*sin(8) + 1/7*sin(7) + 1/6*sin(6) + 1/5*sin(5) + 1/4*sin(4) + 1/3*sin(3) + 1/2*sin(2) + sin(1)"
      ]
     },
     "execution_count": 12,
     "metadata": {},
     "output_type": "execute_result"
    }
   ],
   "source": [
    "s"
   ]
  },
  {
   "cell_type": "code",
   "execution_count": null,
   "metadata": {},
   "outputs": [],
   "source": []
  }
 ],
 "metadata": {
  "kernelspec": {
   "display_name": "SageMath 9.2",
   "language": "sage",
   "name": "sagemath"
  },
  "language_info": {
   "codemirror_mode": {
    "name": "ipython",
    "version": 3
   },
   "file_extension": ".py",
   "mimetype": "text/x-python",
   "name": "python",
   "nbconvert_exporter": "python",
   "pygments_lexer": "ipython3",
   "version": "3.7.7"
  }
 },
 "nbformat": 4,
 "nbformat_minor": 4
}
